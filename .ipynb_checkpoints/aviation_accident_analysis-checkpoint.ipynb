{
 "cells": [
  {
   "cell_type": "markdown",
   "id": "1944bafb",
   "metadata": {},
   "source": [
    "# Aviation Risk and Investing Analysis\n",
    "![Plane Lot](https://hips.hearstapps.com/hmg-prod/images/rear-view-silhouette-of-an-airplane-taking-off-at-royalty-free-image-1695239529.jpg)"
   ]
  },
  {
   "cell_type": "markdown",
   "id": "31f982df",
   "metadata": {},
   "source": [
    "## Business Understanding\n",
    "This project analyizes 88,889 aviation accidents from National Transportation Safety Board from 1962 to 2023 for private and commercial airplanes. These accidents range in severity from fatal to uninjured passengers, we're  analyzing risk by type, injury/fatality rate and location to provide recommendations for the business on the aircraft with the lowest risk and safest investment."
   ]
  },
  {
   "cell_type": "markdown",
   "id": "ab86f3f9",
   "metadata": {},
   "source": [
    "# Data Understanding"
   ]
  },
  {
   "cell_type": "markdown",
   "id": "f20de527",
   "metadata": {},
   "source": [
    "The National Transportation Safety Board report is the most comprehensive dataset on aviation accidents with 88,889 instances recored from 1962 to 2023, ranging from domestic/internal flights, commercial vs private, location, weather conditions and injury statistics (number of fatal, serious, minor and uninjured passangers) for each incident are provided. "
   ]
  },
  {
   "cell_type": "code",
   "execution_count": null,
   "id": "f45ab84a",
   "metadata": {},
   "outputs": [],
   "source": [
    "import pandas as pd\n",
    "import matplotlib.pyplot as plt"
   ]
  },
  {
   "cell_type": "code",
   "execution_count": null,
   "id": "db1d4bfb",
   "metadata": {},
   "outputs": [],
   "source": [
    "aviation_data  = pd.read_csv('data/AviationData.csv',encoding='latin-1',low_memory=False)\n",
    "state_codes = pd.read_csv('data/USState_Codes.csv')"
   ]
  },
  {
   "cell_type": "markdown",
   "id": "7a3583be",
   "metadata": {},
   "source": [
    "## Aviation Data\n",
    "The aviation_data dataset contains 88,889 recorded aviation accidents from 1962 to 2023, ranging from uninjured incidents to fatal accidents. "
   ]
  },
  {
   "cell_type": "code",
   "execution_count": null,
   "id": "1d4d9424",
   "metadata": {},
   "outputs": [],
   "source": [
    "aviation_data.head()"
   ]
  },
  {
   "cell_type": "code",
   "execution_count": null,
   "id": "89c34ef9",
   "metadata": {},
   "outputs": [],
   "source": [
    "aviation_data.head()"
   ]
  },
  {
   "cell_type": "code",
   "execution_count": null,
   "id": "5c277c3f",
   "metadata": {},
   "outputs": [],
   "source": [
    "aviation_data.info()"
   ]
  },
  {
   "cell_type": "code",
   "execution_count": null,
   "id": "1f34785c",
   "metadata": {},
   "outputs": [],
   "source": [
    "aviation_data.describe()"
   ]
  },
  {
   "cell_type": "code",
   "execution_count": null,
   "id": "f80a7a4e",
   "metadata": {},
   "outputs": [],
   "source": [
    "state_codes.head()"
   ]
  },
  {
   "cell_type": "code",
   "execution_count": null,
   "id": "2bb3ac10",
   "metadata": {
    "scrolled": true
   },
   "outputs": [],
   "source": [
    "state_codes.describe()"
   ]
  },
  {
   "cell_type": "markdown",
   "id": "0f2bfa90",
   "metadata": {},
   "source": []
  },
  {
   "cell_type": "code",
   "execution_count": null,
   "id": "fb6abd9f",
   "metadata": {},
   "outputs": [],
   "source": [
    "aviation_data['Investigation.Type'].value_counts()\n",
    "# Accident: 85015\n",
    "# Incident: 3874"
   ]
  },
  {
   "cell_type": "code",
   "execution_count": null,
   "id": "b7d40c7b",
   "metadata": {},
   "outputs": [],
   "source": [
    "aviation_data['Make'].value_counts()"
   ]
  },
  {
   "cell_type": "code",
   "execution_count": null,
   "id": "9b88fbb9",
   "metadata": {},
   "outputs": [],
   "source": [
    "aviation_data['Broad.phase.of.flight'].value_counts()"
   ]
  },
  {
   "cell_type": "markdown",
   "id": "61be1638",
   "metadata": {},
   "source": [
    "## Data Preperation and Merging"
   ]
  },
  {
   "cell_type": "code",
   "execution_count": null,
   "id": "e85c65db",
   "metadata": {},
   "outputs": [],
   "source": [
    "#Cleaning the date format of Event.Date to YYYY-MM-DD\n",
    "aviation_data['Event.Date'] = pd.to_datetime(aviation_data['Event.Date'])\n",
    "aviation_data['Event.Date'] = aviation_data['Event.Date'].dt.strftime('%Y-%m-%d')"
   ]
  },
  {
   "cell_type": "code",
   "execution_count": null,
   "id": "2a8a8f7e",
   "metadata": {
    "scrolled": true
   },
   "outputs": [],
   "source": [
    "# Create a State column for in the aviation_data to join on state_codes\n",
    "avaiation_US = aviation_data[aviation_data['Country']=='United States']\n",
    "aviation_data['State'] = avaiation_US['Location'].str[-2:]"
   ]
  },
  {
   "cell_type": "code",
   "execution_count": null,
   "id": "869f555f",
   "metadata": {},
   "outputs": [],
   "source": [
    "aviation_data[aviation_data['Country']=='United States']"
   ]
  },
  {
   "cell_type": "code",
   "execution_count": null,
   "id": "083ee6c6",
   "metadata": {},
   "outputs": [],
   "source": [
    "# Make column names easier to use (caused error's when rerunning cells)\n",
    "# aviation_data.columns = aviation_data.columns.str.lower().str.replace(' ', '_')\n",
    "# state_codes.columns = state_codes.columns.str.lower().str.replace(' ', '_')\n",
    "print(aviation_data.columns)"
   ]
  },
  {
   "cell_type": "markdown",
   "id": "d241e753",
   "metadata": {},
   "source": [
    "#### Drop columns in aviation_data that are mostly null or not appliable to the risk analysis\n",
    "\n",
    "- Latitude                34382 non-null   \n",
    "- Longitude               34373 non-null  \n",
    "- Aircraft.Category       32287 non-null   \n",
    "- FAR.Description         32023 non-null   \n",
    "- 2Schedule               12582 non-null   "
   ]
  },
  {
   "cell_type": "code",
   "execution_count": null,
   "id": "f3999dfd",
   "metadata": {},
   "outputs": [],
   "source": [
    "null_columns = ['Latitude', 'Longitude','Aircraft.Category','FAR.Description','Schedule']\n",
    "aviation_data = aviation_data.drop(columns=null_columns)"
   ]
  },
  {
   "cell_type": "markdown",
   "id": "75ef0a6b",
   "metadata": {},
   "source": [
    "The injury columns are the primary metrics of the analysis that will help assess risk. We'll need to handle update null values with data points that will not sku the injury data"
   ]
  },
  {
   "cell_type": "code",
   "execution_count": null,
   "id": "29524d2e",
   "metadata": {},
   "outputs": [],
   "source": [
    "aviation_data['Total.Fatal.Injuries'].describe()\n",
    "# There is a large outlier that sku the mean up, in most instances a fatality does not occur and the \n",
    "# median will be used to fill null data for Total.Fatal.Injuries\n",
    "# aviation_data['Total.Fatal.Injuries'].fillna(aviation_data['Total.Fatal.Injuries'].median())"
   ]
  },
  {
   "cell_type": "code",
   "execution_count": null,
   "id": "39409ef4",
   "metadata": {},
   "outputs": [],
   "source": [
    "aviation_data['Total.Serious.Injuries'].describe()\n",
    "# There is a large outlier that sku the mean up, in most instances a serious injuries does not occur and the \n",
    "# median will be used to fill null data for Total.Serious.Injuries\n",
    "aviation_data['Total.Serious.Injuries'].fillna(aviation_data['Total.Serious.Injuries'].median())"
   ]
  },
  {
   "cell_type": "code",
   "execution_count": null,
   "id": "74be3749",
   "metadata": {},
   "outputs": [],
   "source": [
    "aviation_data['Total.Minor.Injuries'].describe()\n",
    "# There is a large outlier that sku the mean up, in most instances a Minor injuries does not occur and the \n",
    "# median will be used to fill null data for Total.Minor.Injuries\n",
    "aviation_data['Total.Minor.Injuries'].fillna(aviation_data['Total.Minor.Injuries'].median())\n"
   ]
  },
  {
   "cell_type": "code",
   "execution_count": null,
   "id": "be841eab",
   "metadata": {},
   "outputs": [],
   "source": [
    "aviation_data['Total.Uninjured'].describe()\n",
    "# There is a large outlier that sku the mean up, in most instances a Uninjured does not occur and the \n",
    "# median will be used to fill null data for Total.Uninjured. There is a large standard deviation, meaning there is more \n",
    "#spread in the data. To remain consistent we're going to use the median.\n",
    "aviation_data['Total.Uninjured'].fillna(aviation_data['Total.Uninjured'].median())"
   ]
  },
  {
   "cell_type": "markdown",
   "id": "cbc70cb1",
   "metadata": {},
   "source": [
    "### Merging Data\n",
    "Merging avaiation_data against the state_codes to pull in state names for accidents that occured in the United States. "
   ]
  },
  {
   "cell_type": "code",
   "execution_count": null,
   "id": "a87b7ecb",
   "metadata": {},
   "outputs": [],
   "source": [
    "aviation_data.set_index('State', inplace=True)\n",
    "state_codes.set_index('Abbreviation', inplace=True)"
   ]
  },
  {
   "cell_type": "code",
   "execution_count": null,
   "id": "2023ce4d",
   "metadata": {},
   "outputs": [],
   "source": [
    "# aviation_accidents = aviation_data.join(state_codes, how='left')\n",
    "aviation_accidents = pd.merge(aviation_data, state_codes,how='left', on=['State','abbreviation'])\n",
    "# aviation_data.columns\n",
    "# aviation_data\n",
    "# state_codes"
   ]
  },
  {
   "cell_type": "markdown",
   "id": "1a489e95",
   "metadata": {},
   "source": [
    "# Exploratory Data Analysis"
   ]
  },
  {
   "cell_type": "code",
   "execution_count": null,
   "id": "dd9b28b0",
   "metadata": {},
   "outputs": [],
   "source": []
  },
  {
   "cell_type": "code",
   "execution_count": null,
   "id": "6c92cd4a",
   "metadata": {},
   "outputs": [],
   "source": []
  }
 ],
 "metadata": {
  "kernelspec": {
   "display_name": "Python (learn-env)",
   "language": "python",
   "name": "learn-env"
  },
  "language_info": {
   "codemirror_mode": {
    "name": "ipython",
    "version": 3
   },
   "file_extension": ".py",
   "mimetype": "text/x-python",
   "name": "python",
   "nbconvert_exporter": "python",
   "pygments_lexer": "ipython3",
   "version": "3.8.5"
  }
 },
 "nbformat": 4,
 "nbformat_minor": 5
}
